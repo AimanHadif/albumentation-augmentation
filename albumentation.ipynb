{
 "cells": [
  {
   "cell_type": "code",
   "execution_count": 1,
   "metadata": {},
   "outputs": [
    {
     "data": {
      "text/plain": [
       "False"
      ]
     },
     "execution_count": 1,
     "metadata": {},
     "output_type": "execute_result"
    }
   ],
   "source": [
    "import torch\n",
    "import os\n",
    "import cv2\n",
    "import albumentations as A\n",
    "torch.cuda.is_available()"
   ]
  },
  {
   "attachments": {},
   "cell_type": "markdown",
   "metadata": {},
   "source": [
    "### Albumentation Documentation : https://albumentations.ai/docs/getting_started/image_augmentation/"
   ]
  },
  {
   "cell_type": "code",
   "execution_count": 2,
   "metadata": {},
   "outputs": [
    {
     "name": "stderr",
     "output_type": "stream",
     "text": [
      "C:\\Users\\aiman\\AppData\\Roaming\\Python\\Python39\\site-packages\\albumentations\\augmentations\\transforms.py:1149: FutureWarning: This class has been deprecated. Please use RandomBrightnessContrast\n",
      "  warnings.warn(\n"
     ]
    }
   ],
   "source": [
    "transform = A.Compose([\n",
    "    A.RandomRotate90(p=0.5),\n",
    "    A.VerticalFlip(p=0.5),\n",
    "    A.Flip(p=0.5),\n",
    "    A.Transpose(p=0.5),\n",
    "    A.ShiftScaleRotate(shift_limit=0.0625, scale_limit=0.2, rotate_limit=45, p=0.4),\n",
    "    A.OneOf([\n",
    "        A.RandomBrightnessContrast(),\n",
    "        A.RandomBrightness(),\n",
    "    ], p=0.4),\n",
    "    A.Blur(blur_limit=3),\n",
    "])"
   ]
  },
  {
   "attachments": {},
   "cell_type": "markdown",
   "metadata": {},
   "source": [
    "#### For One picture Augmented Once"
   ]
  },
  {
   "cell_type": "code",
   "execution_count": 17,
   "metadata": {},
   "outputs": [],
   "source": [
    "# Augment one picture once\n",
    "'''\n",
    "If you copy copy the path and paste it, it is better to use r''\n",
    "'''\n",
    "\n",
    "folder_path = 'folder/path'\n",
    "\n",
    "# Loop over all the images in the folder\n",
    "for filename in os.listdir(folder_path):\n",
    "    if filename.endswith('.jpg') or filename.endswith('.jpeg') or filename.endswith('.png'): \n",
    "        # Load the image\n",
    "        image = cv2.imread(os.path.join(folder_path, filename))\n",
    "        # Apply the augmentation transforms\n",
    "        augmented = transform(image=image)\n",
    "        # Save the augmented image with a new name\n",
    "        cv2.imwrite(os.path.join(folder_path, f\"augmented_{filename}\"), augmented['image'])\n"
   ]
  },
  {
   "attachments": {},
   "cell_type": "markdown",
   "metadata": {},
   "source": [
    "#### For One picture Augmented Twice"
   ]
  },
  {
   "cell_type": "code",
   "execution_count": 15,
   "metadata": {},
   "outputs": [],
   "source": [
    "# Augment one picture twice\n",
    "'''\n",
    "If you copy copy the path and paste it, it is better to use r''\n",
    "'''\n",
    "\n",
    "folder_path = 'folder/path'\n",
    "\n",
    "# Loop over all the images in the folder\n",
    "for filename in os.listdir(folder_path):\n",
    "    if filename.endswith('.jpg') or filename.endswith('.jpeg') or filename.endswith('.png'): \n",
    "        # Load the image\n",
    "        image = cv2.imread(os.path.join(folder_path, filename))\n",
    "        \n",
    "        # Apply the augmentation transforms\n",
    "\n",
    "        augmented_image_1 = transform(image=image)['image']\n",
    "        augmented_image_2 = transform(image=image)['image']\n",
    "       \n",
    "        # Save the augmented image with a new name\n",
    "        cv2.imwrite(os.path.join(folder_path, 'augmented_1_' + filename), augmented_image_1)\n",
    "        cv2.imwrite(os.path.join(folder_path, 'augmented_2_' + filename), augmented_image_2)"
   ]
  },
  {
   "attachments": {},
   "cell_type": "markdown",
   "metadata": {},
   "source": [
    "#### For One picture Augmented Five Times"
   ]
  },
  {
   "cell_type": "code",
   "execution_count": 5,
   "metadata": {},
   "outputs": [],
   "source": [
    "# Augment one picture five times  \n",
    "\n",
    "'''\n",
    "If you copy copy the path and paste it, it is better to use r''\n",
    "'''\n",
    "\n",
    "folder_path = 'folder/path'\n",
    "\n",
    "# Loop over all the images in the folder\n",
    "for filename in os.listdir(folder_path):\n",
    "    if filename.endswith('.jpg') or filename.endswith('.jpeg') or filename.endswith('.png'): \n",
    "        # Load the image\n",
    "        image = cv2.imread(os.path.join(folder_path, filename))\n",
    "        \n",
    "        # Apply the augmentation transforms\n",
    "        augmented_image_1 = transform(image=image)['image']\n",
    "        augmented_image_2 = transform(image=image)['image']\n",
    "        augmented_image_3 = transform(image=image)['image']\n",
    "        augmented_image_4 = transform(image=image)['image']\n",
    "        augmented_image_5 = transform(image=image)['image']\n",
    "        \n",
    "        # Save the augmented image with a new name\n",
    "        cv2.imwrite(os.path.join(folder_path, 'augmented_1_' + filename), augmented_image_1)\n",
    "        cv2.imwrite(os.path.join(folder_path, 'augmented_2_' + filename), augmented_image_2)\n",
    "        cv2.imwrite(os.path.join(folder_path, 'augmented_3_' + filename), augmented_image_3)\n",
    "        cv2.imwrite(os.path.join(folder_path, 'augmented_4_' + filename), augmented_image_4)\n",
    "        cv2.imwrite(os.path.join(folder_path, 'augmented_5_' + filename), augmented_image_5)"
   ]
  }
 ],
 "metadata": {
  "kernelspec": {
   "display_name": "base",
   "language": "python",
   "name": "python3"
  },
  "language_info": {
   "codemirror_mode": {
    "name": "ipython",
    "version": 3
   },
   "file_extension": ".py",
   "mimetype": "text/x-python",
   "name": "python",
   "nbconvert_exporter": "python",
   "pygments_lexer": "ipython3",
   "version": "3.9.13"
  },
  "orig_nbformat": 4
 },
 "nbformat": 4,
 "nbformat_minor": 2
}
